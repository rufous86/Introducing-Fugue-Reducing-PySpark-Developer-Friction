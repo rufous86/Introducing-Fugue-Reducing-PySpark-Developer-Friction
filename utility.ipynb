{
  "nbformat": 4,
  "nbformat_minor": 0,
  "metadata": {
    "colab": {
      "provenance": [],
      "authorship_tag": "ABX9TyOeYWwrzQOssjRU8atPKq1+"
    },
    "kernelspec": {
      "name": "python3",
      "display_name": "Python 3"
    },
    "language_info": {
      "name": "python"
    }
  },
  "cells": [
    {
      "cell_type": "code",
      "source": [
        "# ! pip install pyspark\n",
        "# ! pip install fugue"
      ],
      "metadata": {
        "id": "BylxOfcDa_XK"
      },
      "execution_count": 9,
      "outputs": []
    },
    {
      "cell_type": "code",
      "execution_count": 6,
      "metadata": {
        "id": "mJTIU-syap5p"
      },
      "outputs": [],
      "source": [
        "import pandas as pd\n",
        "from typing import Dict\n",
        "\n",
        "input_df = pd.DataFrame({\"id\":[0,1,2], \"value\": ([\"A\", \"B\", \"C\"])})\n",
        "mapping = {\"A\": \"Apple\", \"B\": \"Banana\", \"C\": \"Carrot\"}\n",
        "\n",
        "def map_letter_to_food(df: pd.DataFrame, mapping: Dict) -> pd.DataFrame:\n",
        "    df[\"food\"] = df[\"value\"].map(mapping)\n",
        "    return df"
      ]
    },
    {
      "cell_type": "code",
      "source": [
        "from fugue import transform\n",
        "from pyspark.sql import SparkSession\n",
        "\n",
        "spark_session = SparkSession.builder.getOrCreate()\n",
        "\n",
        "df = transform(input_df,\n",
        "               map_letter_to_food,\n",
        "               schema=\"*, food:str\",\n",
        "               params=dict(mapping=mapping),\n",
        "               engine=spark_session\n",
        "               )\n",
        "df.show()"
      ],
      "metadata": {
        "colab": {
          "base_uri": "https://localhost:8080/"
        },
        "id": "EcaqUkPIbMPN",
        "outputId": "5a30aece-794c-4779-e5fb-4c846b31e8fa"
      },
      "execution_count": 10,
      "outputs": [
        {
          "output_type": "stream",
          "name": "stdout",
          "text": [
            "+---+-----+------+\n",
            "| id|value|  food|\n",
            "+---+-----+------+\n",
            "|  0|    A| Apple|\n",
            "|  1|    B|Banana|\n",
            "|  2|    C|Carrot|\n",
            "+---+-----+------+\n",
            "\n"
          ]
        }
      ]
    },
    {
      "cell_type": "code",
      "source": [
        "from typing import List, Dict, Any, Iterable\n",
        "\n",
        "def map_letter_to_food2(df: List[Dict[str,Any]], mapping: Dict) -> Iterable[Dict[str,Any]]:\n",
        "    for row in df:\n",
        "        row[\"food\"] = mapping[row[\"value\"]]\n",
        "        yield row\n",
        "\n",
        "def map_letter_to_food3(df: List[List[Any]], mapping: Dict) -> List[List[Any]]:\n",
        "    for row in df:\n",
        "        row.append(mapping[row[1]])\n",
        "    return df\n",
        "\n",
        "def map_letter_to_food4(df: List[List[Any]], mapping: Dict) -> pd.DataFrame:\n",
        "    for row in df:\n",
        "        row.append(mapping[row[1]])\n",
        "    df = pd.DataFrame.from_records(df, columns=[\"id\", \"value\", \"food\"])\n",
        "    return df"
      ],
      "metadata": {
        "id": "vKT1XumLbn19"
      },
      "execution_count": 11,
      "outputs": []
    },
    {
      "cell_type": "code",
      "source": [
        "import pandas as pd\n",
        "from pyspark.sql import SparkSession\n",
        "from fugue.workflow import FugueWorkflow\n",
        "\n",
        "data = pd.DataFrame({'col1': [1,2,3], 'col2':[2,3,4]})\n",
        "\n",
        "def make_new_col(df: pd.DataFrame) -> pd.DataFrame:\n",
        "    df['col3'] = df['col1'] + df['col2']\n",
        "    return df\n",
        "\n",
        "spark_session = SparkSession.builder.getOrCreate()\n",
        "dag = FugueWorkflow()\n",
        "df = dag.df(data)\n",
        "df = df.transform(make_new_col, schema=\"*, col3:int\")\n",
        "dag.run(spark_session)\n",
        "df.result.show()"
      ],
      "metadata": {
        "colab": {
          "base_uri": "https://localhost:8080/"
        },
        "id": "LIxWdjbxfXRB",
        "outputId": "885d4769-f18f-4c79-b5ad-0dbe90ad9ad1"
      },
      "execution_count": 12,
      "outputs": [
        {
          "output_type": "stream",
          "name": "stdout",
          "text": [
            "SparkDataFrame\n",
            "col1:long|col2:long|col3:int\n",
            "---------+---------+--------\n",
            "1        |2        |3       \n",
            "2        |3        |5       \n",
            "3        |4        |7       \n",
            "Total count: 3\n",
            "\n"
          ]
        }
      ]
    }
  ]
}